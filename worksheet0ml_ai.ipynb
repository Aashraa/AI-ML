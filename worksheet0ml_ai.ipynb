{
  "nbformat": 4,
  "nbformat_minor": 0,
  "metadata": {
    "colab": {
      "provenance": []
    },
    "kernelspec": {
      "name": "python3",
      "display_name": "Python 3"
    },
    "language_info": {
      "name": "python"
    }
  },
  "cells": [
    {
      "cell_type": "code",
      "execution_count": null,
      "metadata": {
        "colab": {
          "base_uri": "https://localhost:8080/"
        },
        "id": "QUKbJvCcyrsi",
        "outputId": "23520f56-b806-4ab3-f3f8-de05e610d309"
      },
      "outputs": [
        {
          "output_type": "stream",
          "name": "stdout",
          "text": [
            "Öriginal List: [5, 6, 7]\n",
            "Modified List: [5, 6, 7, 4]\n",
            "Original Tuple: (1, 2, 3)\n"
          ]
        }
      ],
      "source": [
        "original_list = [5,6,7]\n",
        "print(\"Öriginal List:\", original_list)\n",
        "original_list.append(4)\n",
        "print(\"Modified List:\", original_list)\n",
        "original_tuple = (1,2,3)\n",
        "print(\"Original Tuple:\", original_tuple)"
      ]
    },
    {
      "cell_type": "code",
      "source": [
        "age=20\n",
        "pi=3.14\n",
        "temperature =10.8\n",
        "print(\"print type of variable age =\", type(age))\n",
        "print(\"data type of varibale pi=\",type(pi))\n",
        "print(\"data type of variable temperature=\", type(temperature))"
      ],
      "metadata": {
        "colab": {
          "base_uri": "https://localhost:8080/"
        },
        "id": "aGJeHjj-zcdx",
        "outputId": "a42ec147-29bc-4a2d-c6d1-8b67ee9e68db"
      },
      "execution_count": null,
      "outputs": [
        {
          "output_type": "stream",
          "name": "stdout",
          "text": [
            "print type of variable age = <class 'int'>\n",
            "data type of varibale pi= <class 'float'>\n",
            "data type of variable temperature= <class 'float'>\n"
          ]
        }
      ]
    },
    {
      "cell_type": "code",
      "source": [
        "name = \"Aashra\"\n",
        "greeting = \"Namaste\"\n",
        "address =\"Handigaun\"\n",
        "print(\"Data type of the variable name =\", type(name))\n",
        "print(\"Data type of the variable greeting = \",type(greeting))\n",
        "print(\"Data type of the variable address = \", type(address))\n",
        "\n",
        "print(\"The first letter of the name is:\", name[0])\n",
        "print(\"The last letter of the name is:\", name[-1])\n",
        "\n",
        "print(\"The second letter to the fourth of the name is:\", name[1:4])\n",
        "print(\"The first two letters of the name are:\" ,name[:2])\n",
        "print(\"Substring starting from the third letter is:\", name[2:])"
      ],
      "metadata": {
        "colab": {
          "base_uri": "https://localhost:8080/"
        },
        "id": "5GnN-ReBz1G-",
        "outputId": "03f645e4-4df3-41db-bd12-0f6215abb8ad"
      },
      "execution_count": null,
      "outputs": [
        {
          "output_type": "stream",
          "name": "stdout",
          "text": [
            "Data type of the variable name = <class 'str'>\n",
            "Data type of the variable greeting =  <class 'str'>\n",
            "Data type of the variable address =  <class 'str'>\n",
            "The first letter of the name is: A\n",
            "The last letter of the name is: a\n",
            "The second letter to the fourth of the name is: ash\n",
            "The first two letters of the name are: Aa\n",
            "Substring starting from the third letter is: shra\n"
          ]
        }
      ]
    },
    {
      "cell_type": "code",
      "source": [
        "list1 = [3,5,7,9]\n",
        "mixed_list = [25,\"What\", True]\n",
        "mixed_list[0] = False\n",
        "mixed_list"
      ],
      "metadata": {
        "colab": {
          "base_uri": "https://localhost:8080/"
        },
        "id": "whCAa7381AzC",
        "outputId": "2bcf095c-8bd8-4450-9262-e132b1464bc7"
      },
      "execution_count": null,
      "outputs": [
        {
          "output_type": "execute_result",
          "data": {
            "text/plain": [
              "[False, 'What', True]"
            ]
          },
          "metadata": {},
          "execution_count": 4
        }
      ]
    },
    {
      "cell_type": "code",
      "source": [
        "colors = (\"purple\", \"green\", \"red\",\"pink\")\n",
        "print(\"First element:\", colors[0])\n",
        "print(\"Last two elements:\", colors[2:])\n",
        "print(\"Middle two elements:\", colors[1:3])\n",
        "colors"
      ],
      "metadata": {
        "colab": {
          "base_uri": "https://localhost:8080/"
        },
        "id": "78zP98NX1Ugs",
        "outputId": "a386a740-3204-4c26-e95f-63c76cf7a461"
      },
      "execution_count": null,
      "outputs": [
        {
          "output_type": "stream",
          "name": "stdout",
          "text": [
            "First element: purple\n",
            "Last two elements: ('red', 'pink')\n",
            "Middle two elements: ('green', 'red')\n"
          ]
        },
        {
          "output_type": "execute_result",
          "data": {
            "text/plain": [
              "('purple', 'green', 'red', 'pink')"
            ]
          },
          "metadata": {},
          "execution_count": 5
        }
      ]
    },
    {
      "cell_type": "code",
      "source": [
        "person = {\"name\":\"Aashra\",\"age\":20,\"city\":\"Kathmandu\"}\n",
        "print(f\"Hello my name is {person['name']}. I am {person['age']} years old and I live at {person['city']}.\")\n",
        "print(\"All keys:\", list(person.keys()))\n",
        "print(\"All values:\", list(person.values()))"
      ],
      "metadata": {
        "colab": {
          "base_uri": "https://localhost:8080/"
        },
        "id": "zOgZQ7yR10in",
        "outputId": "e0b8c33b-3392-4f34-a5a4-967327e9e2c5"
      },
      "execution_count": null,
      "outputs": [
        {
          "output_type": "stream",
          "name": "stdout",
          "text": [
            "Hello my name is Aashra. I am 20 years old and I live at Kathmandu.\n",
            "All keys: ['name', 'age', 'city']\n",
            "All values: ['Aashra', 20, 'Kathmandu']\n"
          ]
        }
      ]
    },
    {
      "cell_type": "code",
      "source": [
        "unique_numbers = {3,4,7,7,7,7,8,9}\n",
        "print(unique_numbers)"
      ],
      "metadata": {
        "colab": {
          "base_uri": "https://localhost:8080/"
        },
        "id": "wKLKWBXp32Ao",
        "outputId": "92bc8b9e-3037-48f2-8815-25b626832ba7"
      },
      "execution_count": null,
      "outputs": [
        {
          "output_type": "stream",
          "name": "stdout",
          "text": [
            "{3, 4, 7, 8, 9}\n"
          ]
        }
      ]
    },
    {
      "cell_type": "code",
      "source": [
        "is_teacher =False\n",
        "has_degree = True\n",
        "print(\"Data type of the variable is_student =\",type(is_teacher))\n",
        "print(\"Data type of the variable has_license =\",type(has_degree))"
      ],
      "metadata": {
        "colab": {
          "base_uri": "https://localhost:8080/"
        },
        "id": "u8ixX3FL4adW",
        "outputId": "49932db4-e45b-4d6a-e7fc-a4097591518a"
      },
      "execution_count": null,
      "outputs": [
        {
          "output_type": "stream",
          "name": "stdout",
          "text": [
            "Data type of the variable is_student = <class 'bool'>\n",
            "Data type of the variable has_license = <class 'bool'>\n"
          ]
        }
      ]
    },
    {
      "cell_type": "code",
      "source": [
        "num = -9\n",
        "if num >0:\n",
        "  print(\"Positive\")\n",
        "elif num == 0:\n",
        "  print(\"Zero\")\n",
        "else:\n",
        "  print(\"Negative\")"
      ],
      "metadata": {
        "colab": {
          "base_uri": "https://localhost:8080/"
        },
        "id": "YlQK0Jol5SiA",
        "outputId": "98ed8fc9-c1c3-4e26-a598-0bda41feb705"
      },
      "execution_count": null,
      "outputs": [
        {
          "output_type": "stream",
          "name": "stdout",
          "text": [
            "Negative\n"
          ]
        }
      ]
    },
    {
      "cell_type": "code",
      "source": [
        "x = 4\n",
        "y = 90\n",
        "if x > 0 and y < 20:\n",
        "    print(\"Both conditions are true\")\n",
        "if x > 0 or y > 20:\n",
        "    print(\"At least one condition is true\")\n",
        "if not x == 0:\n",
        "    print(\"x is not equal to 0\")"
      ],
      "metadata": {
        "colab": {
          "base_uri": "https://localhost:8080/"
        },
        "id": "kss_M4Wj5kmJ",
        "outputId": "bf7c9e6b-a2d8-4531-c451-17f3118a7856"
      },
      "execution_count": null,
      "outputs": [
        {
          "output_type": "stream",
          "name": "stdout",
          "text": [
            "At least one condition is true\n",
            "x is not equal to 0\n"
          ]
        }
      ]
    },
    {
      "cell_type": "code",
      "source": [
        "x = True\n",
        "y = False\n",
        "if x and y:\n",
        "    print(\"Both conditions are true\")\n",
        "else:\n",
        "    print(\"At least one condition is false\")\n",
        "if x or y:\n",
        "  print(\"At least one condition is true\")\n",
        "else:\n",
        "  print(\"Both conditions are false\")\n",
        "if not x:\n",
        "  print(\"x is false\")\n",
        "else:\n",
        "  print(\"x is true\")"
      ],
      "metadata": {
        "colab": {
          "base_uri": "https://localhost:8080/"
        },
        "id": "z1ATpqV5537g",
        "outputId": "67ca66e6-f8ef-4dd7-840c-c8c46c198cfa"
      },
      "execution_count": null,
      "outputs": [
        {
          "output_type": "stream",
          "name": "stdout",
          "text": [
            "At least one condition is false\n",
            "At least one condition is true\n",
            "x is true\n"
          ]
        }
      ]
    },
    {
      "cell_type": "code",
      "source": [
        "fruits = [\"cherry\",\"watermelon\",\"honeydew\"]\n",
        "for fruit in fruits:\n",
        "    print(fruit)\n",
        "\n",
        "count = 0\n",
        "while count < 5:\n",
        "    print (\"Count is: \",count)\n",
        "    count += 1\n",
        "\n",
        "fruits = [\"cherry\",\"watermelon\",\"strawberry\"]\n",
        "print(\"loop 1\")\n",
        "for fruit in fruits:\n",
        "    print(fruit)\n",
        "    if fruit == \"cherry\":\n",
        "        break\n",
        "\n",
        "    print(\"loop 2\")\n",
        "    for fruit in fruits:\n",
        "        if fruit == \"cherry\":\n",
        "            continue\n",
        "        else:\n",
        "            print(fruit)"
      ],
      "metadata": {
        "colab": {
          "base_uri": "https://localhost:8080/"
        },
        "id": "wiGn_DCW6KtB",
        "outputId": "44e1df26-ef83-4d21-8be8-53e903d352e7"
      },
      "execution_count": null,
      "outputs": [
        {
          "output_type": "stream",
          "name": "stdout",
          "text": [
            "cherry\n",
            "watermelon\n",
            "honeydew\n",
            "Count is:  0\n",
            "Count is:  1\n",
            "Count is:  2\n",
            "Count is:  3\n",
            "Count is:  4\n",
            "loop 1\n",
            "cherry\n"
          ]
        }
      ]
    },
    {
      "cell_type": "code",
      "source": [
        "print(\"Goodbye Everybody\")\n",
        "length = len(\"Namaste\")\n",
        "data_type = type(42)\n",
        "total = sum([1, 2, 3])"
      ],
      "metadata": {
        "colab": {
          "base_uri": "https://localhost:8080/"
        },
        "id": "-9r1Xni77ZyA",
        "outputId": "247a1c94-9bc1-40f9-a397-374208645272"
      },
      "execution_count": null,
      "outputs": [
        {
          "output_type": "stream",
          "name": "stdout",
          "text": [
            "Goodbye Everybody\n"
          ]
        }
      ]
    },
    {
      "cell_type": "code",
      "source": [
        "# str.upper()\n",
        "message = \"hello\".upper()\n",
        "# list.append()\n",
        "fruits = [\"apple\", \"banana\"]\n",
        "fruits.append(\"cherry\")\n",
        "# dict.get()\n",
        "info = {\"name\": \"Aashra\", \"age\": 20}\n",
        "age = info.get(\"age\")"
      ],
      "metadata": {
        "id": "kAG0ovYF7oj-"
      },
      "execution_count": null,
      "outputs": []
    },
    {
      "cell_type": "code",
      "source": [
        "def temperature_converter():\n",
        "    print(\"Choose conversion type:\")\n",
        "    print(\"1. Celsius to Fahrenheit\")\n",
        "    print(\"2. Fahrenheit to Celsius\")\n",
        "    # Get conversion choice from user\n",
        "    choice = input(\"Enter 1 or 2: \")\n",
        "    if choice == \"1\":\n",
        "        celsius = float(input(\"Enter temperature in Celsius: \"))\n",
        "        fahrenheit = (celsius * 9/5) + 32\n",
        "        print(f\"{celsius}C is equal to {fahrenheit}F\")\n",
        "        return fahrenheit\n",
        "    elif choice == \"2\":\n",
        "        fahrenheit = float(input(\"Enter temperature in Fahrenheit: \"))\n",
        "        celsius = (fahrenheit - 32) * 5/9\n",
        "        print(f\"{fahrenheit}F is equal to {celsius}C\")\n",
        "        return celsius\n",
        "    else:\n",
        "        print(\"Invalid choice. Please enter 1 or 2.\")\n",
        "    return None\n",
        "\n",
        "temperature_converter()"
      ],
      "metadata": {
        "colab": {
          "base_uri": "https://localhost:8080/"
        },
        "id": "GhWT7YFu7zXB",
        "outputId": "13634430-0311-48dc-de54-2b72fbdde0c9"
      },
      "execution_count": null,
      "outputs": [
        {
          "output_type": "stream",
          "name": "stdout",
          "text": [
            "Choose conversion type:\n",
            "1. Celsius to Fahrenheit\n",
            "2. Fahrenheit to Celsius\n",
            "Enter 1 or 2: 1\n",
            "Enter temperature in Celsius: 27\n",
            "27.0C is equal to 80.6F\n"
          ]
        },
        {
          "output_type": "execute_result",
          "data": {
            "text/plain": [
              "80.6"
            ]
          },
          "metadata": {},
          "execution_count": 19
        }
      ]
    },
    {
      "cell_type": "code",
      "source": [
        "x = 67\n",
        "def print_global():\n",
        "  print(x)\n",
        "print_global()"
      ],
      "metadata": {
        "colab": {
          "base_uri": "https://localhost:8080/"
        },
        "id": "qvZWJCfl8HF1",
        "outputId": "f46a7604-d1de-49eb-9afe-a7fe2bcad04e"
      },
      "execution_count": null,
      "outputs": [
        {
          "output_type": "stream",
          "name": "stdout",
          "text": [
            "67\n"
          ]
        }
      ]
    },
    {
      "cell_type": "code",
      "source": [
        "def print_local():\n",
        "    y = 5\n",
        "    print(y)\n",
        "\n",
        "print_local()\n",
        "print(y)"
      ],
      "metadata": {
        "colab": {
          "base_uri": "https://localhost:8080/"
        },
        "id": "_6KtUdle8T-U",
        "outputId": "dbb8b18c-0cf0-4632-b733-57443f418e1c"
      },
      "execution_count": null,
      "outputs": [
        {
          "output_type": "stream",
          "name": "stdout",
          "text": [
            "5\n",
            "False\n"
          ]
        }
      ]
    },
    {
      "cell_type": "code",
      "source": [
        "x = 10\n",
        "def modify_global():\n",
        "    global x\n",
        "    x = 20\n",
        "\n",
        "modify_global()\n",
        "print(x)"
      ],
      "metadata": {
        "colab": {
          "base_uri": "https://localhost:8080/"
        },
        "id": "wNQCGGTg8rfW",
        "outputId": "f41c4042-8118-4af4-90c9-4211e814fc1a"
      },
      "execution_count": null,
      "outputs": [
        {
          "output_type": "stream",
          "name": "stdout",
          "text": [
            "20\n"
          ]
        }
      ]
    },
    {
      "cell_type": "code",
      "source": [
        "#Task01: Create a Python program that converts between different units of measurement.\n",
        "def m_to_ft(meters):\n",
        "    return meters * 3.280\n",
        "\n",
        "def ft_to_m(feet):\n",
        "    return feet / 3.280\n",
        "\n",
        "def kg_to_lbs(kilogram):\n",
        "    return kilogram * 2.204\n",
        "\n",
        "def lbs_to_kg(pounds):\n",
        "    return pounds / 2.204\n",
        "\n",
        "def l_to_gal(liter):\n",
        "    return liter * 0.2641\n",
        "\n",
        "def gal_to_l(gallon):\n",
        "    return gallon / 0.2641\n",
        "\n",
        "def conversion():\n",
        "    try:\n",
        "        print(\"Choose a conversion type: \")\n",
        "        print(\"1. Length\")\n",
        "        print(\"2. Weight\")\n",
        "        print(\"3. Volume\")\n",
        "        choice = int(input(\"Enter your choice (1-3): \"))\n",
        "\n",
        "        if choice == 1:\n",
        "            print(\"1. Meters to Feet\")\n",
        "            print(\"2. Feet to Meters\")\n",
        "            choice2 = int(input(\"Enter your choice (1-2): \"))\n",
        "            value = float(input(\"Enter your value to convert: \"))\n",
        "            if choice2 == 1:\n",
        "                result = m_to_ft(value)\n",
        "                print(f\"{value}m = {result}ft\")\n",
        "            elif choice2 == 2:\n",
        "                result = ft_to_m(value)\n",
        "                print(f\"{value}ft = {value}m\")\n",
        "            else:\n",
        "                print(\"Invalid choice. Please try again!\")\n",
        "\n",
        "        elif choice == 2:\n",
        "            print(\"1. Kilograms to Pounds\")\n",
        "            print(\"2. Pounds to Kilograms\")\n",
        "            choice2 = int(input(\"Enter your choice (1-2): \"))\n",
        "            value = float(input(\"Enter your value to convert: \"))\n",
        "            if (choice2 == 1):\n",
        "                result = kg_to_lbs(value)\n",
        "                print(f\"{value}kg = {result}lbs\")\n",
        "            elif (choice2 == 2):\n",
        "                result = lbs_to_kg(value)\n",
        "                print(f\"{value}lbs = {result}kg\")\n",
        "            else:\n",
        "                print(\"Invalid choice. Please try again!\")\n",
        "\n",
        "        elif choice == 3:\n",
        "            print(\"1. Liters to Gallons\")\n",
        "            print(\"2. Gallons to Liters\")\n",
        "            choice2 = int(input(\"Enter your choice (1-2): \"))\n",
        "            value = float(input(\"Enter your value to convert: \"))\n",
        "            if (choice2 == 1):\n",
        "                result = l_to_gal(value)\n",
        "                print(f\"{value}l = {result}gal\")\n",
        "            elif (choice2 == 2):\n",
        "                result = gal_to_l(value)\n",
        "                print(f\"{value}gal = {result}l\")\n",
        "            else:\n",
        "                print(\"Invalid choice. Please try again!\")\n",
        "\n",
        "        else:\n",
        "            print(\"Invalid input. Please try again!\")\n",
        "\n",
        "    except ValueError:\n",
        "        print(\"Invalid input. Please enter a number.\")\n",
        "\n",
        "conversion()"
      ],
      "metadata": {
        "colab": {
          "base_uri": "https://localhost:8080/"
        },
        "id": "y9FZUF2P-CHY",
        "outputId": "75124f24-0c24-4cec-c4ef-6cc19fea05ec"
      },
      "execution_count": null,
      "outputs": [
        {
          "output_type": "stream",
          "name": "stdout",
          "text": [
            "Choose a conversion type: \n",
            "1. Length\n",
            "2. Weight\n",
            "3. Volume\n",
            "Enter your choice (1-3): 3\n",
            "1. Liters to Gallons\n",
            "2. Gallons to Liters\n",
            "Enter your choice (1-2): 1\n",
            "Enter your value to convert: 1\n",
            "1.0l = 0.2641gal\n"
          ]
        }
      ]
    },
    {
      "cell_type": "code",
      "source": [
        "#Task02: Create a Python program that performs various mathematical operations on a list of numbers.\n",
        "def calculate_sum(numbers):\n",
        "    return sum(numbers)\n",
        "\n",
        "def calculate_avg(numbers):\n",
        "    return sum(numbers) / len(numbers) if numbers else 0\n",
        "\n",
        "def find_max(numbers):\n",
        "    return max(numbers)\n",
        "\n",
        "def find_min(numbers):\n",
        "    return min(numbers)\n",
        "\n",
        "def main():\n",
        "    try:\n",
        "        print(\"Choose a mathematical operation:\")\n",
        "        print(\"1. Sum\")\n",
        "        print(\"2. Average\")\n",
        "        print(\"3. Maximum\")\n",
        "        print(\"4. Minimum\")\n",
        "\n",
        "        choice = int(input(\"Enter your choice (1-4): \"))\n",
        "        numbers = list(map(float, input(\"Enter numbers separated by spaces: \").split()))\n",
        "\n",
        "        if not numbers:\n",
        "            print(\"Error: The list of numbers cannot be empty.\")\n",
        "            return\n",
        "\n",
        "        if choice == 1:\n",
        "            print(f\"Sum: {calculate_sum(numbers)}\")\n",
        "        elif choice == 2:\n",
        "            print(f\"Average: {calculate_avg(numbers)}\")\n",
        "        elif choice == 3:\n",
        "            print(f\"Maximum: {find_max(numbers)}\")\n",
        "        elif choice == 4:\n",
        "            print(f\"Minimum: {find_min(numbers)}\")\n",
        "        else:\n",
        "            print(\"Invalid choice.\")\n",
        "    except ValueError:\n",
        "        print(\"Invalid input. Please enter numeric values.\")\n",
        "main()\n"
      ],
      "metadata": {
        "colab": {
          "base_uri": "https://localhost:8080/"
        },
        "id": "U-av9w29-YD7",
        "outputId": "d7128780-8492-425d-e60b-b353433cc01c"
      },
      "execution_count": null,
      "outputs": [
        {
          "output_type": "stream",
          "name": "stdout",
          "text": [
            "Choose a mathematical operation:\n",
            "1. Sum\n",
            "2. Average\n",
            "3. Maximum\n",
            "4. Minimum\n",
            "Enter your choice (1-4): 1\n",
            "Enter numbers separated by spaces: 2 8\n",
            "Sum: 10.0\n"
          ]
        }
      ]
    },
    {
      "cell_type": "code",
      "source": [
        "#Extract Every Other Element:\n",
        "def extract_every_other(lst):\n",
        "    return lst[::2]\n",
        "\n",
        "def main():\n",
        "    user_input = input(\"Enter elements separated by space: \").split()\n",
        "    print(f\"List:\", user_input)\n",
        "    print(f\"Every other element in the list: {extract_every_other(user_input)}\")\n",
        "\n",
        "if __name__ == \"__main__\":\n",
        "    main()"
      ],
      "metadata": {
        "colab": {
          "base_uri": "https://localhost:8080/"
        },
        "id": "87lR8NQW-kFE",
        "outputId": "422cf3c2-5688-45c0-d2eb-ad04922fe537"
      },
      "execution_count": null,
      "outputs": [
        {
          "output_type": "stream",
          "name": "stdout",
          "text": [
            "Enter elements separated by space: 5 8 3 0 1 7\n",
            "List: ['5', '8', '3', '0', '1', '7']\n",
            "Every other element in the list: ['5', '3', '1']\n"
          ]
        }
      ]
    },
    {
      "cell_type": "code",
      "source": [
        "#Slice a Sublist\n",
        "def get_sublist(lst, start, end):\n",
        "    return lst[start:end+1]\n",
        "\n",
        "def main():\n",
        "    user_input = input(\"Enter elements separated by space: \").split()\n",
        "    start = int(input(\"Enter start element: \"))\n",
        "    end = int(input(\"Enter end element: \"))\n",
        "    print(f\"List:\", user_input)\n",
        "    print(f\"Sliced Sublist: {get_sublist(user_input, start, end)}\")\n",
        "\n",
        "if __name__ == \"__main__\":\n",
        "    main()"
      ],
      "metadata": {
        "colab": {
          "base_uri": "https://localhost:8080/"
        },
        "id": "BgFfXogD-ws8",
        "outputId": "3fe9c001-dc10-4e5a-c4c8-62ce5d7be20f"
      },
      "execution_count": null,
      "outputs": [
        {
          "output_type": "stream",
          "name": "stdout",
          "text": [
            "Enter elements separated by space: 5 8 3 0 1 7\n",
            "Enter start element: 2\n",
            "Enter end element: 5\n",
            "List: ['5', '8', '3', '0', '1', '7']\n",
            "Sliced Sublist: ['3', '0', '1', '7']\n"
          ]
        }
      ]
    },
    {
      "cell_type": "code",
      "source": [
        "#Reverse a List Using Slicing:\n",
        "def reverse_list(lst):\n",
        "    return lst[::-1]\n",
        "\n",
        "def main():\n",
        "    user_input = input(\"Enter elements separated by space: \").split()\n",
        "    print(f\"List:\", user_input)\n",
        "    print(f\"Reversed List: {reverse_list(user_input)}\")\n",
        "\n",
        "if __name__ == \"__main__\":\n",
        "    main()"
      ],
      "metadata": {
        "colab": {
          "base_uri": "https://localhost:8080/"
        },
        "id": "k4ApZ8lL_MLJ",
        "outputId": "1ba5b371-c13d-4734-9e50-40ee1400a656"
      },
      "execution_count": null,
      "outputs": [
        {
          "output_type": "stream",
          "name": "stdout",
          "text": [
            "Enter elements separated by space: 9 4 7 2 5 3 1\n",
            "List: ['9', '4', '7', '2', '5', '3', '1']\n",
            "Reversed List: ['1', '3', '5', '2', '7', '4', '9']\n"
          ]
        }
      ]
    },
    {
      "cell_type": "code",
      "source": [
        "# Remove the First and Last Elements:\n",
        "def remove_first_last(lst):\n",
        "    return lst[1:-1]\n",
        "\n",
        "def main():\n",
        "    user_input = input(\"Enter elements separated by space: \").split()\n",
        "    print(f\"List:\", user_input)\n",
        "    print(f\"Removed first and last elements from list: {remove_first_last(user_input)}\")\n",
        "\n",
        "if __name__ == \"__main__\":\n",
        "    main()"
      ],
      "metadata": {
        "colab": {
          "base_uri": "https://localhost:8080/"
        },
        "id": "r7HSLHl8_bwS",
        "outputId": "e00aa1e6-4e01-4bf4-fb0d-5883f7b141b4"
      },
      "execution_count": null,
      "outputs": [
        {
          "output_type": "stream",
          "name": "stdout",
          "text": [
            "Enter elements separated by space:  9 4 7 2 5 3 1\n",
            "List: ['9', '4', '7', '2', '5', '3', '1']\n",
            "Removed first and last elements from list: ['4', '7', '2', '5', '3']\n"
          ]
        }
      ]
    },
    {
      "cell_type": "code",
      "source": [
        "#Get the First n Elements:\n",
        "def get_first_n(lst, n):\n",
        "    return lst[:n]\n",
        "\n",
        "def main():\n",
        "    user_input = input(\"Enter elements separated by space: \").split()\n",
        "    n = int(input(\"Enter the number of elements to be displayed: \"))\n",
        "    print(f\"List:\", user_input)\n",
        "    print(f\"First {n} elements: {get_first_n(user_input, n)}\")\n",
        "\n",
        "if __name__ == \"__main__\":\n",
        "    main()"
      ],
      "metadata": {
        "colab": {
          "base_uri": "https://localhost:8080/"
        },
        "id": "3dDqiDY1_jeA",
        "outputId": "2c91dda4-5fe7-4032-d8d5-07b4521ab151"
      },
      "execution_count": null,
      "outputs": [
        {
          "output_type": "stream",
          "name": "stdout",
          "text": [
            "Enter elements separated by space: 9 4 7 2 5 3 1\n",
            "Enter the number of elements to be displayed: 4\n",
            "List: ['9', '4', '7', '2', '5', '3', '1']\n",
            "First 4 elements: ['9', '4', '7', '2']\n"
          ]
        }
      ]
    },
    {
      "cell_type": "code",
      "source": [
        "#Extract Elements from the End:\n",
        "def get_last_n(lst, n):\n",
        "    return lst[-n:]\n",
        "\n",
        "def main():\n",
        "    user_input = input(\"Enter elements separated by space: \").split()\n",
        "    n = int(input(\"Enter the number of elements to be displayed from last: \"))\n",
        "    print(f\"List:\", user_input)\n",
        "    print(f\"Every other element in the list: {get_last_n(user_input, n)}\")\n",
        "\n",
        "if __name__ == \"__main__\":\n",
        "    main()"
      ],
      "metadata": {
        "colab": {
          "base_uri": "https://localhost:8080/"
        },
        "id": "EsgMUyko_5aY",
        "outputId": "b59ee630-b3bb-4fb7-d42a-2ee31bd039b2"
      },
      "execution_count": null,
      "outputs": [
        {
          "output_type": "stream",
          "name": "stdout",
          "text": [
            "Enter elements separated by space: 9 4 7 2 5 3 1\n",
            "Enter the number of elements to be displayed from last: 3\n",
            "List: ['9', '4', '7', '2', '5', '3', '1']\n",
            "Every other element in the list: ['5', '3', '1']\n"
          ]
        }
      ]
    },
    {
      "cell_type": "code",
      "source": [
        "#Extract Elements in Reverse Order:\n",
        "def reverse_skip(lst):\n",
        "    return lst[-2::-2]\n",
        "\n",
        "def main():\n",
        "    user_input = input(\"Enter elements separated by space: \").split()\n",
        "    print(f\"List:\", user_input)\n",
        "    print(f\"Elements in reverse order starting from second-to-last: {reverse_skip(user_input)}\")\n",
        "\n",
        "if __name__ == \"__main__\":\n",
        "    main()"
      ],
      "metadata": {
        "colab": {
          "base_uri": "https://localhost:8080/"
        },
        "id": "O6x9A20QAI4u",
        "outputId": "db17edbb-d60d-49f0-8dfc-2b0b0550932e"
      },
      "execution_count": null,
      "outputs": [
        {
          "output_type": "stream",
          "name": "stdout",
          "text": [
            "Enter elements separated by space: 9 4 7 2 5 3 1\n",
            "List: ['9', '4', '7', '2', '5', '3', '1']\n",
            "Elements in reverse order starting from second-to-last: ['3', '2', '4']\n"
          ]
        }
      ]
    },
    {
      "cell_type": "code",
      "source": [
        "#Flatten a Nested List\n",
        "def flatten(lst):\n",
        "    flat_list = []\n",
        "    for item in lst:\n",
        "        if isinstance(item, list):\n",
        "            flat_list.extend(flatten(item))\n",
        "        else:\n",
        "            flat_list.append(item)\n",
        "    return flat_list\n",
        "\n",
        "def main():\n",
        "    x = int(input(\"Enter the number of sublists: \"))\n",
        "    list1 = []\n",
        "\n",
        "    for i in range(x):\n",
        "        y = int(input(f\"Enter the number of elements in sublist {i+1}: \"))\n",
        "        sublist = []\n",
        "        for j in range(y):\n",
        "            sublist.append(input(f\"Enter element {j+1} of sublist {i+1}: \"))\n",
        "        list1.append(sublist)\n",
        "\n",
        "    print(\"Original Nested List:\", list1)\n",
        "    print(\"Flattened List:\", flatten(list1))\n",
        "\n",
        "if __name__ == \"__main__\":\n",
        "    main()\n"
      ],
      "metadata": {
        "colab": {
          "base_uri": "https://localhost:8080/"
        },
        "id": "pZks7qcuAMFp",
        "outputId": "e5e180bd-adfe-4421-9e8f-3cf4470a6dee"
      },
      "execution_count": null,
      "outputs": [
        {
          "output_type": "stream",
          "name": "stdout",
          "text": [
            "Enter the number of sublists: 2\n",
            "Enter the number of elements in sublist 1: 2\n",
            "Enter element 1 of sublist 1: 5\n",
            "Enter element 2 of sublist 1: 6\n",
            "Enter the number of elements in sublist 2: 3\n",
            "Enter element 1 of sublist 2: 9\n",
            "Enter element 2 of sublist 2: 2\n",
            "Enter element 3 of sublist 2: 7\n",
            "Original Nested List: [['5', '6'], ['9', '2', '7']]\n",
            "Flattened List: ['5', '6', '9', '2', '7']\n"
          ]
        }
      ]
    },
    {
      "cell_type": "code",
      "source": [
        "# Accessing Nested List Elements\n",
        "def access_nested_element(lst, indices):\n",
        "    elem = lst\n",
        "    for index in indices:\n",
        "        elem = elem[index]\n",
        "    return elem\n",
        "\n",
        "def main():\n",
        "    x = int(input(\"Enter the number of sublists: \"))\n",
        "    list1 = []\n",
        "\n",
        "    for i in range(x):\n",
        "        y = int(input(f\"Enter the number of elements in sublist {i+1}: \"))\n",
        "        sublist = []\n",
        "        for j in range(y):\n",
        "            sublist.append(input(f\"Enter element {j+1} of sublist {i+1}: \"))\n",
        "        list1.append(sublist)\n",
        "\n",
        "    print(\"Original Nested List:\", list1)\n",
        "\n",
        "    indices = list(map(int, input(\"Enter indices separated by space: \").split()))\n",
        "\n",
        "    try:\n",
        "        print(\"Element at indices\", indices, \":\", access_nested_element(list1, indices))\n",
        "    except IndexError:\n",
        "        print(\"Error: Indices out of range!\")\n",
        "\n",
        "if __name__ == \"__main__\":\n",
        "    main()\n"
      ],
      "metadata": {
        "colab": {
          "base_uri": "https://localhost:8080/"
        },
        "id": "4hHkcAUhBk7x",
        "outputId": "b5959e12-1ec1-4dcc-cd99-05516f96a613"
      },
      "execution_count": null,
      "outputs": [
        {
          "output_type": "stream",
          "name": "stdout",
          "text": [
            "Enter the number of sublists: 2\n",
            "Enter the number of elements in sublist 1: 1\n",
            "Enter element 1 of sublist 1: 2\n",
            "Enter the number of elements in sublist 2: 3\n",
            "Enter element 1 of sublist 2: 4\n",
            "Enter element 2 of sublist 2: 5\n",
            "Enter element 3 of sublist 2: 6\n",
            "Original Nested List: [['2'], ['4', '5', '6']]\n",
            "Enter indices separated by space: 2\n",
            "Error: Indices out of range!\n"
          ]
        }
      ]
    },
    {
      "cell_type": "code",
      "source": [
        "#Sum of All Elements in a Nested List\n",
        "def sum_nested(lst):\n",
        "    return sum(flatten(lst))\n",
        "\n",
        "def main():\n",
        "    x = int(input(\"Enter the number of sublists: \"))\n",
        "    list1 = []\n",
        "\n",
        "    for i in range(x):\n",
        "        y = int(input(f\"Enter the number of elements in sublist {i+1}: \"))\n",
        "        sublist = []\n",
        "        for j in range(y):\n",
        "            sublist.append(int(input(f\"Enter element {j+1} of sublist {i+1}: \")))\n",
        "        list1.append(sublist)\n",
        "\n",
        "    print(\"Original Nested List:\", list1)\n",
        "    print(\"Sum of all elements:\", sum_nested(list1))\n",
        "\n",
        "if __name__ == \"__main__\":\n",
        "    main()\n"
      ],
      "metadata": {
        "colab": {
          "base_uri": "https://localhost:8080/"
        },
        "id": "9KI8jXFZCCBr",
        "outputId": "7dc86c4c-5178-4965-e1d0-dc9232b8c24d"
      },
      "execution_count": null,
      "outputs": [
        {
          "output_type": "stream",
          "name": "stdout",
          "text": [
            "Enter the number of sublists: 2\n",
            "Enter the number of elements in sublist 1: 1\n",
            "Enter element 1 of sublist 1: 2\n",
            "Enter the number of elements in sublist 2: 3\n",
            "Enter element 1 of sublist 2: 4\n",
            "Enter element 2 of sublist 2: 5\n",
            "Enter element 3 of sublist 2: 6\n",
            "Original Nested List: [[2], [4, 5, 6]]\n",
            "Sum of all elements: 17\n"
          ]
        }
      ]
    },
    {
      "cell_type": "code",
      "source": [
        "#Remove Specific Element from a Nested List\n",
        "def remove_element(lst, elem):\n",
        "    if isinstance(lst, list):\n",
        "        return [remove_element(sublist, elem) for sublist in lst if sublist != elem]\n",
        "    return lst if lst != elem else None\n",
        "\n",
        "def clean_list(lst):\n",
        "    if isinstance(lst, list):\n",
        "        return [clean_list(item) for item in lst if item is not None]\n",
        "    return lst\n",
        "\n",
        "def main():\n",
        "    x = int(input(\"Enter the number of sublists: \"))\n",
        "    list1 = []\n",
        "\n",
        "    for i in range(x):\n",
        "        y = int(input(f\"Enter the number of elements in sublist {i+1}: \"))\n",
        "        sublist = []\n",
        "        for j in range(y):\n",
        "            sublist.append(int(input(f\"Enter element {j+1} of sublist {i+1}: \")))\n",
        "        list1.append(sublist)\n",
        "\n",
        "    elem = int(input(\"Enter element to remove: \"))\n",
        "    modified_list = clean_list(remove_element(list1, elem))\n",
        "\n",
        "    print(\"Original Nested List:\", list1)\n",
        "    print(\"Modified list:\", modified_list)\n",
        "\n",
        "if __name__ == \"__main__\":\n",
        "    main()\n"
      ],
      "metadata": {
        "colab": {
          "base_uri": "https://localhost:8080/"
        },
        "id": "xtfQglH9CWHr",
        "outputId": "61dabf8b-2871-417a-99b0-c2907b2007a3"
      },
      "execution_count": null,
      "outputs": [
        {
          "output_type": "stream",
          "name": "stdout",
          "text": [
            "Enter the number of sublists: 2\n",
            "Enter the number of elements in sublist 1: 3\n",
            "Enter element 1 of sublist 1: 4\n",
            "Enter element 2 of sublist 1: 5\n",
            "Enter element 3 of sublist 1: 6\n",
            "Enter the number of elements in sublist 2: 2\n",
            "Enter element 1 of sublist 2: 4\n",
            "Enter element 2 of sublist 2: 8\n",
            "Enter element to remove: 1\n",
            "Original Nested List: [[4, 5, 6], [4, 8]]\n",
            "Modified list: [[4, 5, 6], [4, 8]]\n"
          ]
        }
      ]
    },
    {
      "cell_type": "code",
      "source": [
        "#Find the Maximum Element in a Nested List\n",
        "def find_max(lst):\n",
        "    return max(flatten(lst))\n",
        "\n",
        "def main():\n",
        "    x = int(input(\"Enter the number of sublists: \"))\n",
        "    list1 = []\n",
        "\n",
        "    for i in range(x):\n",
        "        y = int(input(f\"Enter the number of elements in sublist {i+1}: \"))\n",
        "        sublist = []\n",
        "        for j in range(y):\n",
        "            sublist.append(int(input(f\"Enter element {j+1} of sublist {i+1}: \")))\n",
        "        list1.append(sublist)\n",
        "\n",
        "    print(\"Original Nested List:\", list1)\n",
        "    print(\"Maximum element:\", find_max(list1))\n",
        "\n",
        "if __name__ == \"__main__\":\n",
        "    main()"
      ],
      "metadata": {
        "colab": {
          "base_uri": "https://localhost:8080/"
        },
        "id": "Tiq1lVSjCnW0",
        "outputId": "ca587c49-9157-4c9b-8641-a7b595b7fa53"
      },
      "execution_count": null,
      "outputs": [
        {
          "output_type": "stream",
          "name": "stdout",
          "text": [
            "Enter the number of sublists: 2\n",
            "Enter the number of elements in sublist 1: 1\n",
            "Enter element 1 of sublist 1: 2\n",
            "Enter the number of elements in sublist 2: 3\n",
            "Enter element 1 of sublist 2: 4\n",
            "Enter element 2 of sublist 2: 5\n",
            "Enter element 3 of sublist 2: 6\n",
            "Original Nested List: [[2], [4, 5, 6]]\n",
            "Maximum element: 6\n"
          ]
        }
      ]
    },
    {
      "cell_type": "code",
      "source": [
        "#Count Occurrences of an Element in a Nested List\n",
        "def count_occurrences(lst, elem):\n",
        "    return flatten(lst).count(elem)\n",
        "\n",
        "def main():\n",
        "    x = int(input(\"Enter the number of sublists: \"))\n",
        "    list1 = []\n",
        "\n",
        "    for i in range(x):\n",
        "        y = int(input(f\"Enter the number of elements in sublist {i+1}: \"))\n",
        "        sublist = []\n",
        "        for j in range(y):\n",
        "            sublist.append(int(input(f\"Enter element {j+1} of sublist {i+1}: \")))\n",
        "        list1.append(sublist)\n",
        "\n",
        "    elem = int(input(\"Enter element to find: \"))\n",
        "\n",
        "    print(\"Original Nested List:\", list1)\n",
        "    print(\"Occurrences of element:\", count_occurrences(list1, elem))\n",
        "\n",
        "if __name__ == \"__main__\":\n",
        "    main()"
      ],
      "metadata": {
        "colab": {
          "base_uri": "https://localhost:8080/"
        },
        "id": "Z7Ccwq25Docw",
        "outputId": "89cf1a83-7018-4452-e35a-d27d510b2dcd"
      },
      "execution_count": null,
      "outputs": [
        {
          "output_type": "stream",
          "name": "stdout",
          "text": [
            "Enter the number of sublists: 1\n",
            "Enter the number of elements in sublist 1: 2\n",
            "Enter element 1 of sublist 1: 3\n",
            "Enter element 2 of sublist 1: 4\n",
            "Enter element to find: 5\n",
            "Original Nested List: [[3, 4]]\n",
            "Occurrences of element: 0\n"
          ]
        }
      ]
    },
    {
      "cell_type": "code",
      "source": [
        "#Flatten a List of Lists of Lists\n",
        "def deep_flatten(lst):\n",
        "    return flatten(lst)\n",
        "\n",
        "def main():\n",
        "    x = int(input(\"Enter the number of sublists: \"))\n",
        "    list1 = []\n",
        "\n",
        "    for i in range(x):\n",
        "        y = int(input(f\"Enter the number of elements in sublist {i+1}: \"))\n",
        "        sublist = []\n",
        "        for j in range(y):\n",
        "            sublist.append(input(f\"Enter element {j+1} of sublist {i+1}: \"))\n",
        "        list1.append(sublist)\n",
        "\n",
        "    print(\"Original Nested List:\", list1)\n",
        "    print(\"Deep Flattened List:\", deep_flatten(list1))\n",
        "\n",
        "if __name__ == \"__main__\":\n",
        "    main()"
      ],
      "metadata": {
        "id": "XJEb2uWrD1Et"
      },
      "execution_count": null,
      "outputs": []
    },
    {
      "cell_type": "code",
      "source": [
        "#Nested List Average\n",
        "def average_nested(lst):\n",
        "    flat_list = flatten(lst)\n",
        "    return sum(flat_list) / len(flat_list) if flat_list else 0\n",
        "\n",
        "def main():\n",
        "    x = int(input(\"Enter the number of sublists: \"))\n",
        "    list1 = []\n",
        "\n",
        "    for i in range(x):\n",
        "        y = int(input(f\"Enter the number of elements in sublist {i+1}: \"))\n",
        "        sublist = []\n",
        "        for j in range(y):\n",
        "            sublist.append(int(input(f\"Enter element {j+1} of sublist {i+1}: \")))\n",
        "        list1.append(sublist)\n",
        "\n",
        "    print(\"Original Nested List:\", list1)\n",
        "    print(\"Average of elements:\", average_nested(list1))\n",
        "\n",
        "if __name__ == \"__main__\":\n",
        "    main()"
      ],
      "metadata": {
        "colab": {
          "base_uri": "https://localhost:8080/"
        },
        "id": "uAJpP-aOEAle",
        "outputId": "f1cc93d5-acee-4843-b27b-60e55a2f50a3"
      },
      "execution_count": null,
      "outputs": [
        {
          "output_type": "stream",
          "name": "stdout",
          "text": [
            "Enter the number of sublists: 1\n",
            "Enter the number of elements in sublist 1: 2\n",
            "Enter element 1 of sublist 1: 3\n",
            "Enter element 2 of sublist 1: 4\n",
            "Original Nested List: [[3, 4]]\n",
            "Average of elements: 3.5\n"
          ]
        }
      ]
    },
    {
      "cell_type": "code",
      "source": [
        "import numpy as np\n",
        "\n",
        "arr_zeros = np.zeros((2,3))\n",
        "print(\" A zeros array is \\n\", arr_zeros, \"with dimensions\", arr_zeros.shape, \"\\n\")"
      ],
      "metadata": {
        "colab": {
          "base_uri": "https://localhost:8080/"
        },
        "id": "XZqTs8lFFMyI",
        "outputId": "f9431079-ccc7-47fd-9879-576dc49ea882"
      },
      "execution_count": null,
      "outputs": [
        {
          "output_type": "stream",
          "name": "stdout",
          "text": [
            " A zeros array is \n",
            " [[0. 0. 0.]\n",
            " [0. 0. 0.]] with dimensions (2, 3) \n",
            "\n"
          ]
        }
      ]
    },
    {
      "cell_type": "code",
      "source": [
        "zero_dim_array = np.array(5)\n",
        "one_dim_array = np.array([5, 6, 7])\n",
        "n_dim_array = np.array([[5, 6], [7, 8]])\n",
        "\n",
        "for arr in [zero_dim_array, one_dim_array, n_dim_array]:\n",
        "    print(f\"Array:\\n{arr}\\nDimension: {arr.ndim}\\nData type: {arr.dtype}\\n\")"
      ],
      "metadata": {
        "colab": {
          "base_uri": "https://localhost:8080/"
        },
        "id": "YJhB8Lh6Fk1w",
        "outputId": "3bb6a214-27a0-4ed3-f613-52b1d4f8a64f"
      },
      "execution_count": null,
      "outputs": [
        {
          "output_type": "stream",
          "name": "stdout",
          "text": [
            "Array:\n",
            "5\n",
            "Dimension: 0\n",
            "Data type: int64\n",
            "\n",
            "Array:\n",
            "[5 6 7]\n",
            "Dimension: 1\n",
            "Data type: int64\n",
            "\n",
            "Array:\n",
            "[[5 6]\n",
            " [7 8]]\n",
            "Dimension: 2\n",
            "Data type: int64\n",
            "\n"
          ]
        }
      ]
    },
    {
      "cell_type": "code",
      "source": [
        "#.ndim Number of Dimensions:\n",
        "arr_1d = np.array([1, 2, 3, 4, 5])\n",
        "print(arr_1d.ndim)\n",
        "# For a 2-D array:\n",
        "arr_2d = np.array([[1, 2, 3],\n",
        "[4, 5, 6]])\n",
        "print(arr_2d.ndim)\n",
        "#For a 3-D array:\n",
        "arr_3d = np.array([[[1, 2, 3],\n",
        "[4, 5, 6]],\n",
        "[[7, 8, 9],\n",
        "[10, 11, 12]]])\n",
        "print(\"Dimension of 3d array: {arr_3d.ndim}\")\n",
        "\n",
        "#.shape Shape of the Array:\n",
        "print(\"Shape of 1d array: {arr_1d.shape}\")\n",
        "print(\"Shape of 2d array: {arr_2d.shape}\")\n",
        "print(\"Shape of 3d array: {arr_3d.shape}\")\n",
        "\n",
        "#.size Total Number of Elements\n",
        "print(\"Size of 1d array: {arr_1d.size}\")\n",
        "print(\"Size of 2d array: {arr_2d.size}\")\n",
        "print(\"Size of 3d array: {arr_3d.size}\")\n",
        "\n",
        "#.dtype Data Type of Elements\n",
        "print(\"Datatype of 1d array: {arr_1d.dtype}\")\n",
        "arr_float = np.array([1.1, 2.2, 3.3])\n",
        "print(\"Datatype of float array: {arr_float.dtype}\")\n",
        "\n",
        "# .itemsize Size of Each Element in Bytes\n",
        "print(\"Size of items in 1d array: {arr_1d.itemsize}\")\n",
        "\n",
        "#.nbytes Total Memory Consumption\n",
        "print(\"Total memory Consumption: {arr_1d.nbytes}\")\n",
        "\n",
        "#print(arr_1d.nbytes)\n",
        "print(\"Transposed version of 2D array: {arr_2d.T}\")\n",
        "\n",
        "#.flat Flattening the Array\n",
        "for item in arr_2d.flat:\n",
        "    print(item, end=\" \")\n",
        "\n",
        "#.real and .imag - Real and Imaginary Parts\n",
        "arr_complex = np.array([1+2j, 3+4j])\n"
      ],
      "metadata": {
        "colab": {
          "base_uri": "https://localhost:8080/"
        },
        "id": "Dxz9KpjBFmUM",
        "outputId": "0d7fbfac-fbeb-417f-c694-c687c0b40b63"
      },
      "execution_count": null,
      "outputs": [
        {
          "output_type": "stream",
          "name": "stdout",
          "text": [
            "1\n",
            "2\n",
            "Dimension of 3d array: {arr_3d.ndim}\n",
            "Shape of 1d array: {arr_1d.shape}\n",
            "Shape of 2d array: {arr_2d.shape}\n",
            "Shape of 3d array: {arr_3d.shape}\n",
            "Size of 1d array: {arr_1d.size}\n",
            "Size of 2d array: {arr_2d.size}\n",
            "Size of 3d array: {arr_3d.size}\n",
            "Datatype of 1d array: {arr_1d.dtype}\n",
            "Datatype of float array: {arr_float.dtype}\n",
            "Size of items in 1d array: {arr_1d.itemsize}\n",
            "Total memory Consumption: {arr_1d.nbytes}\n",
            "Transposed version of 2D array: {arr_2d.T}\n",
            "1 2 3 4 5 6 "
          ]
        }
      ]
    },
    {
      "cell_type": "code",
      "source": [
        "import numpy as np\n",
        "# 1. Initialize an empty array with size 2x2\n",
        "empty_array = np.empty((2, 2))\n",
        "print(\"1. Empty Array (2x2):\\n\", empty_array)\n",
        "\n",
        "# 2. Initialize an all-one array with size 4x2\n",
        "ones_array = np.ones((4, 2))\n",
        "print(\"\\n2. All Ones Array (4x2):\\n\", ones_array)\n",
        "\n",
        "# 3. Return a new array of given shape and type, filled with a fill value\n",
        "fill_value_array = np.full((3, 3), 7)\n",
        "print(\"\\n3. Array filled with 7 (3x3):\\n\", fill_value_array)\n",
        "\n",
        "# 4. Return a new array of zeros with the same shape and type as a given array\n",
        "reference_array = np.array([[1, 2], [3, 4]])\n",
        "zeros_like_array = np.zeros_like(reference_array)\n",
        "print(\"\\n4. Zeros Array with Same Shape as Reference Array:\\n\", zeros_like_array)\n",
        "\n",
        "# 5. Return a new array of ones with the same shape and type as a given array\n",
        "ones_like_array = np.ones_like(reference_array)\n",
        "print(\"\\n5. Ones Array with Same Shape as Reference Array:\\n\", ones_like_array)\n",
        "\n",
        "# 6. Convert an existing list to a NumPy array\n",
        "new_list = [1, 2, 3, 4]\n",
        "numpy_array = np.array(new_list)\n",
        "print(\"\\n6. Converted NumPy Array:\\n\", numpy_array)\n"
      ],
      "metadata": {
        "colab": {
          "base_uri": "https://localhost:8080/"
        },
        "id": "iGNGk8-xF-jm",
        "outputId": "abe82e95-30b3-4e64-d6b4-7512b0b0ea5a"
      },
      "execution_count": null,
      "outputs": [
        {
          "output_type": "stream",
          "name": "stdout",
          "text": [
            "1. Empty Array (2x2):\n",
            " [[1. 2.]\n",
            " [3. 4.]]\n",
            "\n",
            "2. All Ones Array (4x2):\n",
            " [[1. 1.]\n",
            " [1. 1.]\n",
            " [1. 1.]\n",
            " [1. 1.]]\n",
            "\n",
            "3. Array filled with 7 (3x3):\n",
            " [[7 7 7]\n",
            " [7 7 7]\n",
            " [7 7 7]]\n",
            "\n",
            "4. Zeros Array with Same Shape as Reference Array:\n",
            " [[0 0]\n",
            " [0 0]]\n",
            "\n",
            "5. Ones Array with Same Shape as Reference Array:\n",
            " [[1 1]\n",
            " [1 1]]\n",
            "\n",
            "6. Converted NumPy Array:\n",
            " [1 2 3 4]\n"
          ]
        }
      ]
    },
    {
      "cell_type": "code",
      "source": [
        "# Problem - 2: Array Manipulation: Numerical Ranges and Array Indexing\n",
        "\n",
        "# 1. Create an array with values ranging from 10 to 49.\n",
        "array_10_49 = np.arange(10, 50)\n",
        "print(\"\\n1. Array with values ranging from 10 to 49:\\n\", array_10_49)\n",
        "\n",
        "# 2. Create a 3X3 matrix with values ranging from 0 to 8.\n",
        "matrix_3x3 = np.arange(9).reshape(3, 3)\n",
        "print(\"\\n2. 3X3 matrix with values ranging from 0 to 8:\\n\", matrix_3x3)\n",
        "\n",
        "# 3. Create a 3X3 identity matrix.\n",
        "identity_matrix = np.eye(3)\n",
        "print(\"\\n3. 3X3 identity matrix:\\n\", identity_matrix)\n",
        "\n",
        "# 4. Create a random array of size 30 and find the mean of the array.\n",
        "random_array = np.random.random(30)\n",
        "mean_value = random_array.mean()\n",
        "print(\"\\n4 .Random array of size 30:\\n\", random_array)\n",
        "print(\"\\n4.1. Mean of above array:\\n\", mean_value)\n",
        "\n",
        "# 5. Create a 10X10 array with random values and find the minimum and maximum values.\n",
        "random_matrix = np.random.random((10, 10))\n",
        "min_value = random_matrix.min()\n",
        "max_value = random_matrix.max()\n",
        "print(\"\\n5. 10X10 array with random values:\\n\", random_matrix)\n",
        "print(\"\\n5.1. Minimum Value:\\n\", min_value)\n",
        "print(\"\\n5.2. Maximum Value:\\n\", max_value)\n",
        "\n",
        "# 6. Create a zero array of size 10 and replace 5th element with 1.\n",
        "zero_array = np.zeros(10)\n",
        "zero_array[4] = 1  # Indexing starts from 0\n",
        "print(\"\\n6. Zero array of size 10 and 5th element replaced with 1:\\n\", zero_array)\n",
        "\n",
        "# 7. Reverse an array arr = [1,2,0,0,4,0].\n",
        "arr = np.array([1, 2, 0, 0, 4, 0])\n",
        "reversed_arr = arr[::-1]\n",
        "print(\"\\n7. Reversed Array:\\n\", reversed_arr)\n",
        "\n",
        "# 8. Create a 2d array with 1 on border and 0 inside.\n",
        "border_array = np.ones((5, 5))\n",
        "border_array[1:-1, 1:-1] = 0\n",
        "print(\"\\n8. 2d array with 1 on border and 0 inside:\\n\", border_array)\n",
        "\n",
        "# 9. Create a 8X8 matrix and fill it with a checkerboard pattern.\n",
        "checkerboard = np.zeros((8, 8), dtype=int)\n",
        "checkerboard[1::2, ::2] = 1\n",
        "checkerboard[::2, 1::2] = 1\n",
        "print(\"\\n9. 8X8 matrix filled with a checkerboard pattern:\\n\", checkerboard)"
      ],
      "metadata": {
        "colab": {
          "base_uri": "https://localhost:8080/"
        },
        "id": "L56TZYX_ImiT",
        "outputId": "76c48df0-1858-4ba9-d37b-cd8aa15e9f07"
      },
      "execution_count": null,
      "outputs": [
        {
          "output_type": "stream",
          "name": "stdout",
          "text": [
            "\n",
            "1. Array with values ranging from 10 to 49:\n",
            " [10 11 12 13 14 15 16 17 18 19 20 21 22 23 24 25 26 27 28 29 30 31 32 33\n",
            " 34 35 36 37 38 39 40 41 42 43 44 45 46 47 48 49]\n",
            "\n",
            "2. 3X3 matrix with values ranging from 0 to 8:\n",
            " [[0 1 2]\n",
            " [3 4 5]\n",
            " [6 7 8]]\n",
            "\n",
            "3. 3X3 identity matrix:\n",
            " [[1. 0. 0.]\n",
            " [0. 1. 0.]\n",
            " [0. 0. 1.]]\n",
            "\n",
            "4 .Random array of size 30:\n",
            " [0.27267489 0.95503187 0.04841929 0.72212096 0.45633473 0.95087403\n",
            " 0.16422678 0.07414694 0.808924   0.15814064 0.52258234 0.22271301\n",
            " 0.1261825  0.25839037 0.3381184  0.23659775 0.68879838 0.62864667\n",
            " 0.68756714 0.43761888 0.98221778 0.50976296 0.87723381 0.98701613\n",
            " 0.21961089 0.06404462 0.21388398 0.78041725 0.13828012 0.64402134]\n",
            "\n",
            "4.1. Mean of above array:\n",
            " 0.47248661513648565\n",
            "\n",
            "5. 10X10 array with random values:\n",
            " [[0.45332907 0.67785653 0.1118815  0.47988222 0.2274271  0.47840773\n",
            "  0.57717009 0.33749311 0.38720387 0.68326434]\n",
            " [0.42026298 0.38542759 0.86645283 0.24395195 0.57735177 0.1480326\n",
            "  0.60111966 0.9107746  0.16042464 0.26171088]\n",
            " [0.89280474 0.5631793  0.45076669 0.96620897 0.02895469 0.56406543\n",
            "  0.61879354 0.51834487 0.0681676  0.85743116]\n",
            " [0.8685935  0.84758974 0.50203626 0.30022076 0.04276941 0.60496364\n",
            "  0.11111941 0.11623164 0.89693786 0.31760211]\n",
            " [0.33341692 0.17106355 0.67513274 0.88365859 0.94963866 0.64034436\n",
            "  0.21682577 0.26079399 0.08332878 0.36127302]\n",
            " [0.00724097 0.84145015 0.36066147 0.23274415 0.85877476 0.20259287\n",
            "  0.01609773 0.96583277 0.00687094 0.19741872]\n",
            " [0.664373   0.24350342 0.2075863  0.57346261 0.51951657 0.32390296\n",
            "  0.50613318 0.41312984 0.99427485 0.23531119]\n",
            " [0.90018143 0.25399915 0.52541549 0.40373143 0.43967527 0.65400584\n",
            "  0.73093349 0.28554009 0.68160836 0.49210573]\n",
            " [0.45943463 0.31835301 0.48497598 0.01956908 0.25832341 0.93974235\n",
            "  0.18236255 0.95906746 0.88960444 0.56863342]\n",
            " [0.29349066 0.04866235 0.3985687  0.00249628 0.22423167 0.24237918\n",
            "  0.20530597 0.71339877 0.39694049 0.40678138]]\n",
            "\n",
            "5.1. Minimum Value:\n",
            " 0.0024962758064932533\n",
            "\n",
            "5.2. Maximum Value:\n",
            " 0.994274845623599\n",
            "\n",
            "6. Zero array of size 10 and 5th element replaced with 1:\n",
            " [0. 0. 0. 0. 1. 0. 0. 0. 0. 0.]\n",
            "\n",
            "7. Reversed Array:\n",
            " [0 4 0 0 2 1]\n",
            "\n",
            "8. 2d array with 1 on border and 0 inside:\n",
            " [[1. 1. 1. 1. 1.]\n",
            " [1. 0. 0. 0. 1.]\n",
            " [1. 0. 0. 0. 1.]\n",
            " [1. 0. 0. 0. 1.]\n",
            " [1. 1. 1. 1. 1.]]\n",
            "\n",
            "9. 8X8 matrix filled with a checkerboard pattern:\n",
            " [[0 1 0 1 0 1 0 1]\n",
            " [1 0 1 0 1 0 1 0]\n",
            " [0 1 0 1 0 1 0 1]\n",
            " [1 0 1 0 1 0 1 0]\n",
            " [0 1 0 1 0 1 0 1]\n",
            " [1 0 1 0 1 0 1 0]\n",
            " [0 1 0 1 0 1 0 1]\n",
            " [1 0 1 0 1 0 1 0]]\n"
          ]
        }
      ]
    },
    {
      "cell_type": "code",
      "source": [
        "import numpy as np\n",
        "\n",
        "# Given arrays\n",
        "x = np.array([[1, 2], [3, 5]])\n",
        "y = np.array([[5, 6], [7, 8]])\n",
        "v = np.array([9, 10])\n",
        "w = np.array([11, 12])\n",
        "\n",
        "# 1. Add the two arrays\n",
        "add_xy = x + y\n",
        "print(\"Addition of x and y:\\n\", add_xy)\n",
        "\n",
        "# 2. Subtract the two arrays\n",
        "sub_xy = x - y\n",
        "print(\"\\nSubtraction of x and y:\\n\", sub_xy)\n",
        "\n",
        "# 3. Multiply the array x with any integer (e.g., 3)\n",
        "mult_x = x * 3\n",
        "print(\"\\nMultiplication of x with 3:\\n\", mult_x)\n",
        "\n",
        "# 4. Find the square of each element of x\n",
        "square_x = x ** 2\n",
        "print(\"\\nSquare of each element of x:\\n\", square_x)\n",
        "\n",
        "# 5. Dot product calculations\n",
        "dot_vw = np.dot(v, w)\n",
        "dot_xv = np.dot(x, v)\n",
        "dot_xy = np.dot(x, y)\n",
        "\n",
        "print(\"\\nDot product of v and w:\", dot_vw)\n",
        "print(\"\\nDot product of x and v:\\n\", dot_xv)\n",
        "print(\"\\nDot product of x and y:\\n\", dot_xy)\n",
        "\n",
        "# 6. Concatenation\n",
        "concat_xy_row = np.concatenate((x, y), axis=0)  # Along rows\n",
        "concat_vw_col = np.vstack((v, w))  # Along columns\n",
        "\n",
        "print(\"\\nConcatenation of x and y along rows:\\n\", concat_xy_row)\n",
        "print(\"\\nConcatenation of v and w along columns:\\n\", concat_vw_col)\n",
        "\n",
        "# 7. Concatenate x and v\n",
        "try:\n",
        "    concat_xv = np.concatenate((x, v), axis=0)  # Attempting to concatenate x and v\n",
        "    print(\"\\nConcatenation of x and v:\\n\", concat_xv)\n",
        "except ValueError as e:\n",
        "    print(\"\\nError while concatenating x and v:\", e)\n",
        "    print(\"Reason: x has shape (2,2) and v has shape (2,). Their dimensions are incompatible for direct concatenation.\")\n"
      ],
      "metadata": {
        "colab": {
          "base_uri": "https://localhost:8080/"
        },
        "id": "4fZ7kDoyIuX4",
        "outputId": "142036a0-267e-47f9-bee4-aeaa41b71941"
      },
      "execution_count": null,
      "outputs": [
        {
          "output_type": "stream",
          "name": "stdout",
          "text": [
            "Addition of x and y:\n",
            " [[ 6  8]\n",
            " [10 13]]\n",
            "\n",
            "Subtraction of x and y:\n",
            " [[-4 -4]\n",
            " [-4 -3]]\n",
            "\n",
            "Multiplication of x with 3:\n",
            " [[ 3  6]\n",
            " [ 9 15]]\n",
            "\n",
            "Square of each element of x:\n",
            " [[ 1  4]\n",
            " [ 9 25]]\n",
            "\n",
            "Dot product of v and w: 219\n",
            "\n",
            "Dot product of x and v:\n",
            " [29 77]\n",
            "\n",
            "Dot product of x and y:\n",
            " [[19 22]\n",
            " [50 58]]\n",
            "\n",
            "Concatenation of x and y along rows:\n",
            " [[1 2]\n",
            " [3 5]\n",
            " [5 6]\n",
            " [7 8]]\n",
            "\n",
            "Concatenation of v and w along columns:\n",
            " [[ 9 10]\n",
            " [11 12]]\n",
            "\n",
            "Error while concatenating x and v: all the input arrays must have same number of dimensions, but the array at index 0 has 2 dimension(s) and the array at index 1 has 1 dimension(s)\n",
            "Reason: x has shape (2,2) and v has shape (2,). Their dimensions are incompatible for direct concatenation.\n"
          ]
        }
      ]
    },
    {
      "cell_type": "code",
      "source": [
        "A = np.array([[3, 4], [7, 8]])\n",
        "B = np.array([[5, 3], [2, 1]])\n",
        "\n",
        "A_inv = np.linalg.inv(A)\n",
        "\n",
        "identity_matrix = np.dot(A, A_inv)\n",
        "\n",
        "print(\"A * A_inv:\\n\", identity_matrix)\n",
        "print(\"\\nIdentity Matrix:\\n\", np.eye(2))  # Expected identity matrix\n"
      ],
      "metadata": {
        "colab": {
          "base_uri": "https://localhost:8080/"
        },
        "id": "h-5RtWpsI3YU",
        "outputId": "1aef1d8e-4624-45e8-c624-34f9a5b56d2d"
      },
      "execution_count": null,
      "outputs": [
        {
          "output_type": "stream",
          "name": "stdout",
          "text": [
            "A * A_inv:\n",
            " [[1.00000000e+00 0.00000000e+00]\n",
            " [1.77635684e-15 1.00000000e+00]]\n",
            "\n",
            "Identity Matrix:\n",
            " [[1. 0.]\n",
            " [0. 1.]]\n"
          ]
        }
      ]
    },
    {
      "cell_type": "code",
      "source": [
        "AB = np.dot(A, B)\n",
        "BA = np.dot(B, A)\n",
        "\n",
        "print(\"\\nAB:\\n\", AB)\n",
        "print(\"\\nBA:\\n\", BA)\n",
        "print(\"\\nAre AB and BA equal?\", np.array_equal(AB, BA))"
      ],
      "metadata": {
        "colab": {
          "base_uri": "https://localhost:8080/"
        },
        "id": "3ILfkQ1fJCDc",
        "outputId": "b9014517-a837-4ff8-a3c3-6d1c6dabd4b5"
      },
      "execution_count": null,
      "outputs": [
        {
          "output_type": "stream",
          "name": "stdout",
          "text": [
            "\n",
            "AB:\n",
            " [[23 13]\n",
            " [51 29]]\n",
            "\n",
            "BA:\n",
            " [[36 44]\n",
            " [13 16]]\n",
            "\n",
            "Are AB and BA equal? False\n"
          ]
        }
      ]
    },
    {
      "cell_type": "code",
      "source": [
        "AB_T = np.transpose(AB)\n",
        "\n",
        "BT = np.transpose(B)\n",
        "AT = np.transpose(A)\n",
        "BT_AT = np.dot(BT, AT)\n",
        "\n",
        "print(\"\\n(AB)^T:\\n\", AB_T)\n",
        "print(\"\\nB^T * A^T:\\n\", BT_AT)\n",
        "print(\"\\nAre (AB)^T and B^T * A^T equal?\", np.array_equal(AB_T, BT_AT))\n"
      ],
      "metadata": {
        "colab": {
          "base_uri": "https://localhost:8080/"
        },
        "id": "P-Ire0NWJGv_",
        "outputId": "8342500a-0d2f-4282-d7b1-759f1b7bc4ce"
      },
      "execution_count": null,
      "outputs": [
        {
          "output_type": "stream",
          "name": "stdout",
          "text": [
            "\n",
            "(AB)^T:\n",
            " [[23 51]\n",
            " [13 29]]\n",
            "\n",
            "B^T * A^T:\n",
            " [[23 51]\n",
            " [13 29]]\n",
            "\n",
            "Are (AB)^T and B^T * A^T equal? True\n"
          ]
        }
      ]
    },
    {
      "cell_type": "code",
      "source": [
        "A = np.array([[2, -3, 1], [1, -1, 2], [3, 1, -1]])\n",
        "B = np.array([-1, -3, 9])\n",
        "\n",
        "A_inv = np.linalg.inv(A)\n",
        "\n",
        "X = np.dot(A_inv, B)\n",
        "\n",
        "print(\"\\nSolution for (x, y, z):\\n\", X)\n"
      ],
      "metadata": {
        "id": "TPRZEToDJOGO"
      },
      "execution_count": null,
      "outputs": []
    },
    {
      "cell_type": "code",
      "source": [
        "import numpy as np\n",
        "import time\n",
        "\n",
        "# 1. Element-wise Addition\n",
        "size = 1_000_000\n",
        "\n",
        "# Generate lists and arrays\n",
        "list1 = list(range(size))\n",
        "list2 = list(range(size))\n",
        "\n",
        "array1 = np.arange(size)\n",
        "array2 = np.arange(size)\n",
        "\n",
        "# Using Python lists\n",
        "start_time = time.time()\n",
        "list_addition = [list1[i] + list2[i] for i in range(size)]\n",
        "end_time = time.time()\n",
        "print(\"Time taken for element-wise addition using lists:\", end_time - start_time, \"seconds\")\n",
        "\n",
        "# Using NumPy arrays\n",
        "start_time = time.time()\n",
        "array_addition = array1 + array2\n",
        "end_time = time.time()\n",
        "print(\"Time taken for element-wise addition using NumPy:\", end_time - start_time, \"seconds\")\n",
        "\n",
        "\n",
        "# 2. Element-wise Multiplication\n",
        "\n",
        "# Using Python lists\n",
        "start_time = time.time()\n",
        "list_multiplication = [list1[i] * list2[i] for i in range(size)]\n",
        "end_time = time.time()\n",
        "print(\"\\nTime taken for element-wise multiplication using lists:\", end_time - start_time, \"seconds\")\n",
        "\n",
        "# Using NumPy arrays\n",
        "start_time = time.time()\n",
        "array_multiplication = array1 * array2\n",
        "end_time = time.time()\n",
        "print(\"Time taken for element-wise multiplication using NumPy:\", end_time - start_time, \"seconds\")\n",
        "\n",
        "\n",
        "# 3. Dot Product\n",
        "\n",
        "# Using Python lists\n",
        "start_time = time.time()\n",
        "dot_product_list = sum(list1[i] * list2[i] for i in range(size))\n",
        "end_time = time.time()\n",
        "print(\"\\nTime taken for dot product using lists:\", end_time - start_time, \"seconds\")\n",
        "\n",
        "# Using NumPy arrays\n",
        "start_time = time.time()\n",
        "dot_product_numpy = np.dot(array1, array2)\n",
        "end_time = time.time()\n",
        "print(\"Time taken for dot product using NumPy:\", end_time - start_time, \"seconds\")\n",
        "\n",
        "\n",
        "# 4. Matrix Multiplication\n",
        "matrix_size = 1000\n",
        "\n",
        "# Generate matrices\n",
        "matrix1_list = [[i + j for j in range(matrix_size)] for i in range(matrix_size)]\n",
        "matrix2_list = [[i - j for j in range(matrix_size)] for i in range(matrix_size)]\n",
        "\n",
        "matrix1_np = np.array(matrix1_list)\n",
        "matrix2_np = np.array(matrix2_list)\n",
        "\n",
        "# Using Python lists\n",
        "start_time = time.time()\n",
        "result_matrix_list = [[sum(matrix1_list[i][k] * matrix2_list[k][j] for k in range(matrix_size))\n",
        "                       for j in range(matrix_size)] for i in range(matrix_size)]\n",
        "end_time = time.time()\n",
        "print(\"\\nTime taken for matrix multiplication using lists:\", end_time - start_time, \"seconds\")\n",
        "\n",
        "# Using NumPy arrays\n",
        "start_time = time.time()\n",
        "result_matrix_np = np.dot(matrix1_np, matrix2_np)\n",
        "end_time = time.time()\n",
        "print(\"Time taken for matrix multiplication using NumPy:\", end_time - start_time, \"seconds\")\n"
      ],
      "metadata": {
        "colab": {
          "base_uri": "https://localhost:8080/"
        },
        "id": "V9t3ulQjJO-q",
        "outputId": "6d44fc16-b174-44ec-9d7a-346886135acd"
      },
      "execution_count": null,
      "outputs": [
        {
          "output_type": "stream",
          "name": "stdout",
          "text": [
            "Time taken for element-wise addition using lists: 0.14121150970458984 seconds\n",
            "Time taken for element-wise addition using NumPy: 0.013669013977050781 seconds\n",
            "\n",
            "Time taken for element-wise multiplication using lists: 0.13476109504699707 seconds\n",
            "Time taken for element-wise multiplication using NumPy: 0.012082338333129883 seconds\n",
            "\n",
            "Time taken for dot product using lists: 0.09989690780639648 seconds\n",
            "Time taken for dot product using NumPy: 0.0018846988677978516 seconds\n",
            "\n",
            "Time taken for matrix multiplication using lists: 205.71187567710876 seconds\n",
            "Time taken for matrix multiplication using NumPy: 2.343365430831909 seconds\n"
          ]
        }
      ]
    }
  ]
}